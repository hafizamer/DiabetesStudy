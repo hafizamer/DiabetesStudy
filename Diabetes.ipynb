{
 "cells": [
  {
   "cell_type": "code",
   "execution_count": 22,
   "metadata": {},
   "outputs": [],
   "source": [
    "import tensorflow as tf\n",
    "import numpy as np\n",
    "from sklearn.model_selection import train_test_split\n",
    "import pandas as pd\n",
    "import matplotlib.pyplot as plt\n",
    "\n",
    "%matplotlib inline"
   ]
  },
  {
   "cell_type": "code",
   "execution_count": 23,
   "metadata": {},
   "outputs": [
    {
     "data": {
      "text/plain": [
       "Index(['Pregnancies', 'Glucose', 'BloodPressure', 'SkinThickness', 'Insulin',\n",
       "       'BMI', 'DiabetesPedigreeFunction', 'Age', 'Outcome'],\n",
       "      dtype='object')"
      ]
     },
     "execution_count": 23,
     "metadata": {},
     "output_type": "execute_result"
    }
   ],
   "source": [
    "df=pd.read_csv(\"diabetes.csv\")\n",
    "df.columns"
   ]
  },
  {
   "cell_type": "code",
   "execution_count": 24,
   "metadata": {},
   "outputs": [],
   "source": [
    "Col_name=[\"Pregnancies\",\"Glucose\",\"BloodPressure\",\"SkinThickness\",\n",
    "         \"Insulin\",\"BMI\",\"DiabetesPedigreeFunction\",\"Age\",\"Class\"]"
   ]
  },
  {
   "cell_type": "code",
   "execution_count": 25,
   "metadata": {},
   "outputs": [
    {
     "data": {
      "text/html": [
       "<div>\n",
       "<style scoped>\n",
       "    .dataframe tbody tr th:only-of-type {\n",
       "        vertical-align: middle;\n",
       "    }\n",
       "\n",
       "    .dataframe tbody tr th {\n",
       "        vertical-align: top;\n",
       "    }\n",
       "\n",
       "    .dataframe thead th {\n",
       "        text-align: right;\n",
       "    }\n",
       "</style>\n",
       "<table border=\"1\" class=\"dataframe\">\n",
       "  <thead>\n",
       "    <tr style=\"text-align: right;\">\n",
       "      <th></th>\n",
       "      <th>Pregnancies</th>\n",
       "      <th>Glucose</th>\n",
       "      <th>BloodPressure</th>\n",
       "      <th>SkinThickness</th>\n",
       "      <th>Insulin</th>\n",
       "      <th>BMI</th>\n",
       "      <th>DiabetesPedigreeFunction</th>\n",
       "      <th>Age</th>\n",
       "      <th>Class</th>\n",
       "    </tr>\n",
       "  </thead>\n",
       "  <tbody>\n",
       "    <tr>\n",
       "      <th>0</th>\n",
       "      <td>6</td>\n",
       "      <td>148</td>\n",
       "      <td>72</td>\n",
       "      <td>35</td>\n",
       "      <td>0</td>\n",
       "      <td>33.6</td>\n",
       "      <td>0.627</td>\n",
       "      <td>50</td>\n",
       "      <td>1</td>\n",
       "    </tr>\n",
       "    <tr>\n",
       "      <th>1</th>\n",
       "      <td>1</td>\n",
       "      <td>85</td>\n",
       "      <td>66</td>\n",
       "      <td>29</td>\n",
       "      <td>0</td>\n",
       "      <td>26.6</td>\n",
       "      <td>0.351</td>\n",
       "      <td>31</td>\n",
       "      <td>0</td>\n",
       "    </tr>\n",
       "    <tr>\n",
       "      <th>2</th>\n",
       "      <td>8</td>\n",
       "      <td>183</td>\n",
       "      <td>64</td>\n",
       "      <td>0</td>\n",
       "      <td>0</td>\n",
       "      <td>23.3</td>\n",
       "      <td>0.672</td>\n",
       "      <td>32</td>\n",
       "      <td>1</td>\n",
       "    </tr>\n",
       "  </tbody>\n",
       "</table>\n",
       "</div>"
      ],
      "text/plain": [
       "   Pregnancies  Glucose  BloodPressure  SkinThickness  Insulin   BMI  \\\n",
       "0            6      148             72             35        0  33.6   \n",
       "1            1       85             66             29        0  26.6   \n",
       "2            8      183             64              0        0  23.3   \n",
       "\n",
       "   DiabetesPedigreeFunction  Age  Class  \n",
       "0                     0.627   50      1  \n",
       "1                     0.351   31      0  \n",
       "2                     0.672   32      1  "
      ]
     },
     "execution_count": 25,
     "metadata": {},
     "output_type": "execute_result"
    }
   ],
   "source": [
    "df=pd.read_csv(\"diabetes.csv\", header=0, names=Col_name)\n",
    "df.head(3)"
   ]
  },
  {
   "cell_type": "code",
   "execution_count": 26,
   "metadata": {},
   "outputs": [
    {
     "data": {
      "text/html": [
       "<div>\n",
       "<style scoped>\n",
       "    .dataframe tbody tr th:only-of-type {\n",
       "        vertical-align: middle;\n",
       "    }\n",
       "\n",
       "    .dataframe tbody tr th {\n",
       "        vertical-align: top;\n",
       "    }\n",
       "\n",
       "    .dataframe thead th {\n",
       "        text-align: right;\n",
       "    }\n",
       "</style>\n",
       "<table border=\"1\" class=\"dataframe\">\n",
       "  <thead>\n",
       "    <tr style=\"text-align: right;\">\n",
       "      <th></th>\n",
       "      <th>Pregnancies</th>\n",
       "      <th>Glucose</th>\n",
       "      <th>BloodPressure</th>\n",
       "      <th>SkinThickness</th>\n",
       "      <th>Insulin</th>\n",
       "      <th>BMI</th>\n",
       "      <th>DiabetesPedigreeFunction</th>\n",
       "      <th>Age</th>\n",
       "      <th>Class</th>\n",
       "    </tr>\n",
       "  </thead>\n",
       "  <tbody>\n",
       "  </tbody>\n",
       "</table>\n",
       "</div>"
      ],
      "text/plain": [
       "Empty DataFrame\n",
       "Columns: [Pregnancies, Glucose, BloodPressure, SkinThickness, Insulin, BMI, DiabetesPedigreeFunction, Age, Class]\n",
       "Index: []"
      ]
     },
     "execution_count": 26,
     "metadata": {},
     "output_type": "execute_result"
    }
   ],
   "source": [
    "df.head(0)"
   ]
  },
  {
   "cell_type": "code",
   "execution_count": 27,
   "metadata": {},
   "outputs": [],
   "source": [
    "#normalise using custom lambda function\n",
    "col_norm=[\"Pregnancies\",\"Glucose\",\"BloodPressure\",\"SkinThickness\",\n",
    "         \"Insulin\",\"BMI\",\"DiabetesPedigreeFunction\"]\n",
    "df_norm=df[col_norm]"
   ]
  },
  {
   "cell_type": "code",
   "execution_count": 28,
   "metadata": {},
   "outputs": [
    {
     "data": {
      "text/html": [
       "<div>\n",
       "<style scoped>\n",
       "    .dataframe tbody tr th:only-of-type {\n",
       "        vertical-align: middle;\n",
       "    }\n",
       "\n",
       "    .dataframe tbody tr th {\n",
       "        vertical-align: top;\n",
       "    }\n",
       "\n",
       "    .dataframe thead th {\n",
       "        text-align: right;\n",
       "    }\n",
       "</style>\n",
       "<table border=\"1\" class=\"dataframe\">\n",
       "  <thead>\n",
       "    <tr style=\"text-align: right;\">\n",
       "      <th></th>\n",
       "      <th>Pregnancies</th>\n",
       "      <th>Glucose</th>\n",
       "      <th>BloodPressure</th>\n",
       "      <th>SkinThickness</th>\n",
       "      <th>Insulin</th>\n",
       "      <th>BMI</th>\n",
       "      <th>DiabetesPedigreeFunction</th>\n",
       "    </tr>\n",
       "  </thead>\n",
       "  <tbody>\n",
       "    <tr>\n",
       "      <th>0</th>\n",
       "      <td>6</td>\n",
       "      <td>148</td>\n",
       "      <td>72</td>\n",
       "      <td>35</td>\n",
       "      <td>0</td>\n",
       "      <td>33.6</td>\n",
       "      <td>0.627</td>\n",
       "    </tr>\n",
       "    <tr>\n",
       "      <th>1</th>\n",
       "      <td>1</td>\n",
       "      <td>85</td>\n",
       "      <td>66</td>\n",
       "      <td>29</td>\n",
       "      <td>0</td>\n",
       "      <td>26.6</td>\n",
       "      <td>0.351</td>\n",
       "    </tr>\n",
       "  </tbody>\n",
       "</table>\n",
       "</div>"
      ],
      "text/plain": [
       "   Pregnancies  Glucose  BloodPressure  SkinThickness  Insulin   BMI  \\\n",
       "0            6      148             72             35        0  33.6   \n",
       "1            1       85             66             29        0  26.6   \n",
       "\n",
       "   DiabetesPedigreeFunction  \n",
       "0                     0.627  \n",
       "1                     0.351  "
      ]
     },
     "execution_count": 28,
     "metadata": {},
     "output_type": "execute_result"
    }
   ],
   "source": [
    "df_norm.head(2)"
   ]
  },
  {
   "cell_type": "code",
   "execution_count": 29,
   "metadata": {},
   "outputs": [],
   "source": [
    "dfl_norm=df[col_norm].apply(lambda x:((x-x.min())/(x.max()-x.min())))"
   ]
  },
  {
   "cell_type": "code",
   "execution_count": 30,
   "metadata": {
    "scrolled": true
   },
   "outputs": [
    {
     "data": {
      "text/html": [
       "<div>\n",
       "<style scoped>\n",
       "    .dataframe tbody tr th:only-of-type {\n",
       "        vertical-align: middle;\n",
       "    }\n",
       "\n",
       "    .dataframe tbody tr th {\n",
       "        vertical-align: top;\n",
       "    }\n",
       "\n",
       "    .dataframe thead th {\n",
       "        text-align: right;\n",
       "    }\n",
       "</style>\n",
       "<table border=\"1\" class=\"dataframe\">\n",
       "  <thead>\n",
       "    <tr style=\"text-align: right;\">\n",
       "      <th></th>\n",
       "      <th>Pregnancies</th>\n",
       "      <th>Glucose</th>\n",
       "      <th>BloodPressure</th>\n",
       "      <th>SkinThickness</th>\n",
       "      <th>Insulin</th>\n",
       "      <th>BMI</th>\n",
       "      <th>DiabetesPedigreeFunction</th>\n",
       "    </tr>\n",
       "  </thead>\n",
       "  <tbody>\n",
       "    <tr>\n",
       "      <th>0</th>\n",
       "      <td>0.352941</td>\n",
       "      <td>0.743719</td>\n",
       "      <td>0.590164</td>\n",
       "      <td>0.353535</td>\n",
       "      <td>0.0</td>\n",
       "      <td>0.500745</td>\n",
       "      <td>0.234415</td>\n",
       "    </tr>\n",
       "    <tr>\n",
       "      <th>1</th>\n",
       "      <td>0.058824</td>\n",
       "      <td>0.427136</td>\n",
       "      <td>0.540984</td>\n",
       "      <td>0.292929</td>\n",
       "      <td>0.0</td>\n",
       "      <td>0.396423</td>\n",
       "      <td>0.116567</td>\n",
       "    </tr>\n",
       "  </tbody>\n",
       "</table>\n",
       "</div>"
      ],
      "text/plain": [
       "   Pregnancies   Glucose  BloodPressure  SkinThickness  Insulin       BMI  \\\n",
       "0     0.352941  0.743719       0.590164       0.353535      0.0  0.500745   \n",
       "1     0.058824  0.427136       0.540984       0.292929      0.0  0.396423   \n",
       "\n",
       "   DiabetesPedigreeFunction  \n",
       "0                  0.234415  \n",
       "1                  0.116567  "
      ]
     },
     "execution_count": 30,
     "metadata": {},
     "output_type": "execute_result"
    }
   ],
   "source": [
    "dfl_norm.head(2)"
   ]
  },
  {
   "cell_type": "code",
   "execution_count": 31,
   "metadata": {},
   "outputs": [],
   "source": [
    "feat_Pregnancies=tf.feature_column.numeric_column(\"Pregnancies\")\n",
    "feat_Glucose=tf.feature_column.numeric_column(\"Glucose\")\n",
    "feat_BloodPressure=tf.feature_column.numeric_column(\"BloodPressure\")\n",
    "feat_SkinThickness_tricep=tf.feature_column.numeric_column(\"SkinThickness\")\n",
    "feat_Insulin=tf.feature_column.numeric_column(\"Insulin\")\n",
    "feat_BMI=tf.feature_column.numeric_column(\"BMI\")\n",
    "feat_DiabetesPedigreeFunction=tf.feature_column.numeric_column(\"DiabetesPedigreeFunction\")"
   ]
  },
  {
   "cell_type": "code",
   "execution_count": 32,
   "metadata": {},
   "outputs": [],
   "source": [
    "feat_cols=[feat_Pregnancies,feat_Glucose,feat_BloodPressure,feat_SkinThickness_tricep,feat_Insulin,feat_BMI,feat_DiabetesPedigreeFunction]"
   ]
  },
  {
   "cell_type": "code",
   "execution_count": 33,
   "metadata": {
    "scrolled": true
   },
   "outputs": [
    {
     "data": {
      "text/html": [
       "<div>\n",
       "<style scoped>\n",
       "    .dataframe tbody tr th:only-of-type {\n",
       "        vertical-align: middle;\n",
       "    }\n",
       "\n",
       "    .dataframe tbody tr th {\n",
       "        vertical-align: top;\n",
       "    }\n",
       "\n",
       "    .dataframe thead th {\n",
       "        text-align: right;\n",
       "    }\n",
       "</style>\n",
       "<table border=\"1\" class=\"dataframe\">\n",
       "  <thead>\n",
       "    <tr style=\"text-align: right;\">\n",
       "      <th></th>\n",
       "      <th>Pregnancies</th>\n",
       "      <th>Glucose</th>\n",
       "      <th>BloodPressure</th>\n",
       "      <th>SkinThickness</th>\n",
       "      <th>Insulin</th>\n",
       "      <th>BMI</th>\n",
       "      <th>DiabetesPedigreeFunction</th>\n",
       "    </tr>\n",
       "  </thead>\n",
       "  <tbody>\n",
       "    <tr>\n",
       "      <th>0</th>\n",
       "      <td>0.352941</td>\n",
       "      <td>0.743719</td>\n",
       "      <td>0.590164</td>\n",
       "      <td>0.353535</td>\n",
       "      <td>0.0</td>\n",
       "      <td>0.500745</td>\n",
       "      <td>0.234415</td>\n",
       "    </tr>\n",
       "    <tr>\n",
       "      <th>1</th>\n",
       "      <td>0.058824</td>\n",
       "      <td>0.427136</td>\n",
       "      <td>0.540984</td>\n",
       "      <td>0.292929</td>\n",
       "      <td>0.0</td>\n",
       "      <td>0.396423</td>\n",
       "      <td>0.116567</td>\n",
       "    </tr>\n",
       "  </tbody>\n",
       "</table>\n",
       "</div>"
      ],
      "text/plain": [
       "   Pregnancies   Glucose  BloodPressure  SkinThickness  Insulin       BMI  \\\n",
       "0     0.352941  0.743719       0.590164       0.353535      0.0  0.500745   \n",
       "1     0.058824  0.427136       0.540984       0.292929      0.0  0.396423   \n",
       "\n",
       "   DiabetesPedigreeFunction  \n",
       "0                  0.234415  \n",
       "1                  0.116567  "
      ]
     },
     "execution_count": 33,
     "metadata": {},
     "output_type": "execute_result"
    }
   ],
   "source": [
    "X_Data=dfl_norm\n",
    "X_Data.head(2)"
   ]
  },
  {
   "cell_type": "code",
   "execution_count": 34,
   "metadata": {},
   "outputs": [
    {
     "data": {
      "text/plain": [
       "0    1\n",
       "1    0\n",
       "2    1\n",
       "Name: Class, dtype: int64"
      ]
     },
     "execution_count": 34,
     "metadata": {},
     "output_type": "execute_result"
    }
   ],
   "source": [
    "Y_Data=df[\"Class\"]\n",
    "Y_Data.head(3)"
   ]
  },
  {
   "cell_type": "code",
   "execution_count": 35,
   "metadata": {},
   "outputs": [],
   "source": [
    "X_train, X_test, Y_train, Y_test = train_test_split(X_Data, Y_Data, test_size=0.3, random_state=101)"
   ]
  },
  {
   "cell_type": "code",
   "execution_count": 36,
   "metadata": {},
   "outputs": [],
   "source": [
    "input_func=tf.compat.v1.estimator.inputs.pandas_input_fn(x=X_train, y=Y_train, batch_size=10,num_epochs=100,shuffle=True)"
   ]
  },
  {
   "cell_type": "code",
   "execution_count": 37,
   "metadata": {},
   "outputs": [],
   "source": [
    "test_func=tf.compat.v1.estimator.inputs.pandas_input_fn(x=X_test, y=Y_test, batch_size=10,num_epochs=1,shuffle=False)"
   ]
  },
  {
   "cell_type": "code",
   "execution_count": 38,
   "metadata": {},
   "outputs": [
    {
     "name": "stdout",
     "output_type": "stream",
     "text": [
      "INFO:tensorflow:Using default config.\n",
      "WARNING:tensorflow:Using temporary folder as model directory: C:\\Users\\hafiz\\AppData\\Local\\Temp\\tmpa_6d7uy9\n",
      "INFO:tensorflow:Using config: {'_model_dir': 'C:\\\\Users\\\\hafiz\\\\AppData\\\\Local\\\\Temp\\\\tmpa_6d7uy9', '_tf_random_seed': None, '_save_summary_steps': 100, '_save_checkpoints_steps': None, '_save_checkpoints_secs': 600, '_session_config': allow_soft_placement: true\n",
      "graph_options {\n",
      "  rewrite_options {\n",
      "    meta_optimizer_iterations: ONE\n",
      "  }\n",
      "}\n",
      ", '_keep_checkpoint_max': 5, '_keep_checkpoint_every_n_hours': 10000, '_log_step_count_steps': 100, '_train_distribute': None, '_device_fn': None, '_protocol': None, '_eval_distribute': None, '_experimental_distribute': None, '_experimental_max_worker_delay_secs': None, '_session_creation_timeout_secs': 7200, '_service': None, '_cluster_spec': ClusterSpec({}), '_task_type': 'worker', '_task_id': 0, '_global_id_in_cluster': 0, '_master': '', '_evaluation_master': '', '_is_chief': True, '_num_ps_replicas': 0, '_num_worker_replicas': 1}\n"
     ]
    }
   ],
   "source": [
    "model=tf.estimator.LinearClassifier(feature_columns=feat_cols,n_classes=2)"
   ]
  },
  {
   "cell_type": "code",
   "execution_count": 39,
   "metadata": {},
   "outputs": [
    {
     "name": "stdout",
     "output_type": "stream",
     "text": [
      "INFO:tensorflow:Calling model_fn.\n",
      "WARNING:tensorflow:Layer linear/linear_model is casting an input tensor from dtype float64 to the layer's dtype of float32, which is new behavior in TensorFlow 2.  The layer has dtype float32 because it's dtype defaults to floatx.\n",
      "\n",
      "If you intended to run this layer in float32, you can safely ignore this warning. If in doubt, this warning is likely only an issue if you are porting a TensorFlow 1.X model to TensorFlow 2.\n",
      "\n",
      "To change all layers to have dtype float64 by default, call `tf.keras.backend.set_floatx('float64')`. To change just this layer, pass dtype='float64' to the layer constructor. If you are the author of this layer, you can disable autocasting by passing autocast=False to the base Layer constructor.\n",
      "\n",
      "INFO:tensorflow:Done calling model_fn.\n",
      "INFO:tensorflow:Create CheckpointSaverHook.\n",
      "INFO:tensorflow:Graph was finalized.\n",
      "INFO:tensorflow:Running local_init_op.\n",
      "INFO:tensorflow:Done running local_init_op.\n",
      "INFO:tensorflow:Saving checkpoints for 0 into C:\\Users\\hafiz\\AppData\\Local\\Temp\\tmpa_6d7uy9\\model.ckpt.\n",
      "INFO:tensorflow:loss = 0.6931472, step = 0\n",
      "INFO:tensorflow:global_step/sec: 144.081\n",
      "INFO:tensorflow:loss = 0.6028807, step = 100 (0.696 sec)\n",
      "INFO:tensorflow:global_step/sec: 215.334\n",
      "INFO:tensorflow:loss = 0.76525855, step = 200 (0.467 sec)\n",
      "INFO:tensorflow:global_step/sec: 205.457\n",
      "INFO:tensorflow:loss = 0.6385229, step = 300 (0.485 sec)\n",
      "INFO:tensorflow:global_step/sec: 224.704\n",
      "INFO:tensorflow:loss = 0.640699, step = 400 (0.448 sec)\n",
      "INFO:tensorflow:global_step/sec: 210.043\n",
      "INFO:tensorflow:loss = 0.51552236, step = 500 (0.472 sec)\n",
      "INFO:tensorflow:global_step/sec: 194.916\n",
      "INFO:tensorflow:loss = 0.58454216, step = 600 (0.513 sec)\n",
      "INFO:tensorflow:global_step/sec: 217.376\n",
      "INFO:tensorflow:loss = 0.7018129, step = 700 (0.460 sec)\n",
      "INFO:tensorflow:global_step/sec: 215.974\n",
      "INFO:tensorflow:loss = 0.5545411, step = 800 (0.463 sec)\n",
      "INFO:tensorflow:global_step/sec: 210.511\n",
      "INFO:tensorflow:loss = 0.6107737, step = 900 (0.475 sec)\n",
      "INFO:tensorflow:global_step/sec: 199.586\n",
      "INFO:tensorflow:loss = 0.70714104, step = 1000 (0.510 sec)\n",
      "INFO:tensorflow:global_step/sec: 240.362\n",
      "INFO:tensorflow:loss = 0.47388777, step = 1100 (0.406 sec)\n",
      "INFO:tensorflow:global_step/sec: 301.194\n",
      "INFO:tensorflow:loss = 0.50078785, step = 1200 (0.332 sec)\n",
      "INFO:tensorflow:global_step/sec: 230.853\n",
      "INFO:tensorflow:loss = 0.4537181, step = 1300 (0.433 sec)\n",
      "INFO:tensorflow:global_step/sec: 227.247\n",
      "INFO:tensorflow:loss = 0.48623005, step = 1400 (0.445 sec)\n",
      "INFO:tensorflow:global_step/sec: 213.533\n",
      "INFO:tensorflow:loss = 0.4062015, step = 1500 (0.465 sec)\n",
      "INFO:tensorflow:global_step/sec: 211.316\n",
      "INFO:tensorflow:loss = 0.50978804, step = 1600 (0.473 sec)\n",
      "INFO:tensorflow:global_step/sec: 249.036\n",
      "INFO:tensorflow:loss = 0.5559632, step = 1700 (0.402 sec)\n",
      "INFO:tensorflow:global_step/sec: 215.936\n",
      "INFO:tensorflow:loss = 0.47190142, step = 1800 (0.462 sec)\n",
      "INFO:tensorflow:global_step/sec: 209.492\n",
      "INFO:tensorflow:loss = 0.38148728, step = 1900 (0.478 sec)\n",
      "INFO:tensorflow:global_step/sec: 216.912\n",
      "INFO:tensorflow:loss = 0.5958273, step = 2000 (0.461 sec)\n",
      "INFO:tensorflow:global_step/sec: 219.701\n",
      "INFO:tensorflow:loss = 0.57708675, step = 2100 (0.454 sec)\n",
      "INFO:tensorflow:global_step/sec: 221.583\n",
      "INFO:tensorflow:loss = 0.46457687, step = 2200 (0.452 sec)\n",
      "INFO:tensorflow:global_step/sec: 190.099\n",
      "INFO:tensorflow:loss = 0.6866651, step = 2300 (0.527 sec)\n",
      "INFO:tensorflow:global_step/sec: 233.231\n",
      "INFO:tensorflow:loss = 0.7514185, step = 2400 (0.428 sec)\n",
      "INFO:tensorflow:global_step/sec: 221.585\n",
      "INFO:tensorflow:loss = 0.49311733, step = 2500 (0.451 sec)\n",
      "INFO:tensorflow:global_step/sec: 217.752\n",
      "INFO:tensorflow:loss = 0.54460835, step = 2600 (0.459 sec)\n",
      "INFO:tensorflow:global_step/sec: 214.199\n",
      "INFO:tensorflow:loss = 0.61163336, step = 2700 (0.467 sec)\n",
      "INFO:tensorflow:global_step/sec: 208.791\n",
      "INFO:tensorflow:loss = 0.55175465, step = 2800 (0.480 sec)\n",
      "INFO:tensorflow:global_step/sec: 237.97\n",
      "INFO:tensorflow:loss = 0.61132574, step = 2900 (0.418 sec)\n",
      "INFO:tensorflow:global_step/sec: 230.958\n",
      "INFO:tensorflow:loss = 0.52274823, step = 3000 (0.436 sec)\n",
      "INFO:tensorflow:global_step/sec: 211.645\n",
      "INFO:tensorflow:loss = 0.5080641, step = 3100 (0.470 sec)\n",
      "INFO:tensorflow:global_step/sec: 214.41\n",
      "INFO:tensorflow:loss = 0.44764552, step = 3200 (0.466 sec)\n",
      "INFO:tensorflow:global_step/sec: 207.099\n",
      "INFO:tensorflow:loss = 0.60058653, step = 3300 (0.485 sec)\n",
      "INFO:tensorflow:global_step/sec: 216.465\n",
      "INFO:tensorflow:loss = 0.6925658, step = 3400 (0.460 sec)\n",
      "INFO:tensorflow:global_step/sec: 202.006\n",
      "INFO:tensorflow:loss = 0.495861, step = 3500 (0.501 sec)\n",
      "INFO:tensorflow:global_step/sec: 200.853\n",
      "INFO:tensorflow:loss = 0.63281244, step = 3600 (0.493 sec)\n",
      "INFO:tensorflow:global_step/sec: 233.624\n",
      "INFO:tensorflow:loss = 0.673234, step = 3700 (0.427 sec)\n",
      "INFO:tensorflow:global_step/sec: 210.317\n",
      "INFO:tensorflow:loss = 0.52134675, step = 3800 (0.475 sec)\n",
      "INFO:tensorflow:global_step/sec: 213.097\n",
      "INFO:tensorflow:loss = 0.71646726, step = 3900 (0.468 sec)\n",
      "INFO:tensorflow:global_step/sec: 235.617\n",
      "INFO:tensorflow:loss = 0.4553608, step = 4000 (0.429 sec)\n",
      "INFO:tensorflow:global_step/sec: 211.81\n",
      "INFO:tensorflow:loss = 0.2954802, step = 4100 (0.468 sec)\n",
      "INFO:tensorflow:global_step/sec: 214.131\n",
      "INFO:tensorflow:loss = 0.44319034, step = 4200 (0.468 sec)\n",
      "INFO:tensorflow:global_step/sec: 212.748\n",
      "INFO:tensorflow:loss = 0.496775, step = 4300 (0.469 sec)\n",
      "INFO:tensorflow:global_step/sec: 230.928\n",
      "INFO:tensorflow:loss = 0.4699939, step = 4400 (0.440 sec)\n",
      "INFO:tensorflow:global_step/sec: 210.897\n",
      "INFO:tensorflow:loss = 0.6870038, step = 4500 (0.468 sec)\n",
      "INFO:tensorflow:global_step/sec: 225.383\n",
      "INFO:tensorflow:loss = 0.527736, step = 4600 (0.443 sec)\n",
      "INFO:tensorflow:global_step/sec: 222.709\n",
      "INFO:tensorflow:loss = 0.30056182, step = 4700 (0.448 sec)\n",
      "INFO:tensorflow:global_step/sec: 191.221\n",
      "INFO:tensorflow:loss = 0.42501226, step = 4800 (0.524 sec)\n",
      "INFO:tensorflow:global_step/sec: 245.669\n",
      "INFO:tensorflow:loss = 0.36523873, step = 4900 (0.406 sec)\n",
      "INFO:tensorflow:Saving checkpoints for 5000 into C:\\Users\\hafiz\\AppData\\Local\\Temp\\tmpa_6d7uy9\\model.ckpt.\n",
      "INFO:tensorflow:Loss for final step: 0.6402401.\n"
     ]
    },
    {
     "data": {
      "text/plain": [
       "<tensorflow_estimator.python.estimator.canned.linear.LinearClassifierV2 at 0x189b56cdd88>"
      ]
     },
     "execution_count": 39,
     "metadata": {},
     "output_type": "execute_result"
    }
   ],
   "source": [
    "model.train(input_fn=input_func, steps=5000)"
   ]
  },
  {
   "cell_type": "code",
   "execution_count": 40,
   "metadata": {},
   "outputs": [],
   "source": [
    "eval_input_func=tf.compat.v1.estimator.inputs.pandas_input_fn(x=X_test, y=Y_test, batch_size=10,num_epochs=1,shuffle=False)"
   ]
  },
  {
   "cell_type": "code",
   "execution_count": 41,
   "metadata": {},
   "outputs": [
    {
     "name": "stdout",
     "output_type": "stream",
     "text": [
      "INFO:tensorflow:Calling model_fn.\n",
      "WARNING:tensorflow:Layer linear/linear_model is casting an input tensor from dtype float64 to the layer's dtype of float32, which is new behavior in TensorFlow 2.  The layer has dtype float32 because it's dtype defaults to floatx.\n",
      "\n",
      "If you intended to run this layer in float32, you can safely ignore this warning. If in doubt, this warning is likely only an issue if you are porting a TensorFlow 1.X model to TensorFlow 2.\n",
      "\n",
      "To change all layers to have dtype float64 by default, call `tf.keras.backend.set_floatx('float64')`. To change just this layer, pass dtype='float64' to the layer constructor. If you are the author of this layer, you can disable autocasting by passing autocast=False to the base Layer constructor.\n",
      "\n",
      "INFO:tensorflow:Done calling model_fn.\n",
      "INFO:tensorflow:Starting evaluation at 2020-03-27T15:33:16Z\n",
      "INFO:tensorflow:Graph was finalized.\n",
      "INFO:tensorflow:Restoring parameters from C:\\Users\\hafiz\\AppData\\Local\\Temp\\tmpa_6d7uy9\\model.ckpt-5000\n",
      "INFO:tensorflow:Running local_init_op.\n",
      "INFO:tensorflow:Done running local_init_op.\n",
      "INFO:tensorflow:Inference Time : 1.90566s\n",
      "INFO:tensorflow:Finished evaluation at 2020-03-27-15:33:18\n",
      "INFO:tensorflow:Saving dict for global step 5000: accuracy = 0.7835498, accuracy_baseline = 0.64935064, auc = 0.8235391, auc_precision_recall = 0.7005263, average_loss = 0.5172299, global_step = 5000, label/mean = 0.35064936, loss = 0.52404743, precision = 0.7924528, prediction/mean = 0.36842933, recall = 0.5185185\n",
      "INFO:tensorflow:Saving 'checkpoint_path' summary for global step 5000: C:\\Users\\hafiz\\AppData\\Local\\Temp\\tmpa_6d7uy9\\model.ckpt-5000\n"
     ]
    }
   ],
   "source": [
    "results=model.evaluate(eval_input_func)"
   ]
  },
  {
   "cell_type": "code",
   "execution_count": 42,
   "metadata": {},
   "outputs": [
    {
     "data": {
      "text/plain": [
       "0.7835498"
      ]
     },
     "execution_count": 42,
     "metadata": {},
     "output_type": "execute_result"
    }
   ],
   "source": [
    "results[\"accuracy\"]"
   ]
  },
  {
   "cell_type": "code",
   "execution_count": null,
   "metadata": {},
   "outputs": [],
   "source": []
  }
 ],
 "metadata": {
  "kernelspec": {
   "display_name": "Python 3",
   "language": "python",
   "name": "python3"
  },
  "language_info": {
   "codemirror_mode": {
    "name": "ipython",
    "version": 3
   },
   "file_extension": ".py",
   "mimetype": "text/x-python",
   "name": "python",
   "nbconvert_exporter": "python",
   "pygments_lexer": "ipython3",
   "version": "3.7.4"
  }
 },
 "nbformat": 4,
 "nbformat_minor": 4
}
